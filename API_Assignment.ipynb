{
 "cells": [
  {
   "cell_type": "markdown",
   "id": "cc378720-d33a-4bbf-92ef-fea826ad236f",
   "metadata": {},
   "source": [
    "**Q1. What is an API? Give an example, where an API is used in real life.**"
   ]
  },
  {
   "cell_type": "markdown",
   "id": "d75d1f47-dea0-4ce7-8f5e-4df1a2bd1de2",
   "metadata": {},
   "source": [
    "API stands for Application Programming Interface. It is a set of rules and protocols that allows different software applications to communicate and interact with each other. \n",
    "\n",
    "\n",
    "An example where an API is used in real life is in social media platforms. Social media platforms provide APIs that allow developers to integrate their applications or websites with the social media platform's features and data. "
   ]
  },
  {
   "cell_type": "code",
   "execution_count": null,
   "id": "e23561a2-3cf3-416a-ae38-e7cf22be4788",
   "metadata": {},
   "outputs": [],
   "source": []
  },
  {
   "cell_type": "markdown",
   "id": "bb612ff4-7948-4dd8-9391-9b9848251b95",
   "metadata": {},
   "source": [
    "**Q2. Give advantages and disadvantages of using API.**"
   ]
  },
  {
   "cell_type": "markdown",
   "id": "5dc3a9e1-2ca2-4b61-b7ae-bb8cd2ce2813",
   "metadata": {},
   "source": [
    "**Advantages**:\n",
    "\n",
    "1. APIs allow for modular development, where different components of a system can be developed and updated independently. \n",
    "\n",
    "2. APIs promote code reuse and save development time. Once an API is developed and documented, it can be used by multiple applications, both internal and external. \n",
    "\n",
    "3. APIs facilitate access to third-party services, allowing applications to leverage external functionalities and data. \n",
    "\n",
    "\n",
    "**Disadvantages**\n",
    "\n",
    "1. When using APIs, applications can become dependent on external systems or services. \n",
    "\n",
    "2. API users rely on the API provider to maintain and update the API. This can result in limited control over the functionality, performance, and security of the API.\n",
    "\n",
    "3. Working with APIs may require developers to learn and understand the API's documentation, usage patterns, and associated technologies."
   ]
  },
  {
   "cell_type": "markdown",
   "id": "c339ca00-ae46-4216-a05c-c64063a4dd0e",
   "metadata": {},
   "source": []
  },
  {
   "cell_type": "markdown",
   "id": "4ca8c885-ebe0-45dd-8f99-fd7d69c23121",
   "metadata": {},
   "source": [
    "**Q3. What is a Web API? Differentiate between API and Web API.**"
   ]
  },
  {
   "cell_type": "markdown",
   "id": "94e7a199-8df5-4cd3-ae76-bd530b7a3850",
   "metadata": {},
   "source": [
    "A Web API, is an API that is specifically designed to enable communication and interaction between different software systems over the web using HTTP. \n",
    "\n",
    "\n",
    "Differentiate between API and Web API:\n",
    "\n",
    "1. API is a broader term that encompasses any set of rules and protocols that define how different software components or systems can interact and communicate with each other. On the other hand, a Web API specifically refers to an API that is exposed over the web, utilizing HTTP as the communication protocol.\n",
    "\n",
    "2. APIs can use different protocols for communication, including HTTP, TCP/IP.However, Web APIs are specifically designed to be accessed using HTTP.\n",
    "\n",
    "3. APIs can be platform-independent. Web APIs, by their nature, are platform-independent and can be accessed from any device or platform that has internet connectivity and can make HTTP requests. "
   ]
  },
  {
   "cell_type": "code",
   "execution_count": null,
   "id": "7454d3a0-8561-4f89-9481-712f85fb6c42",
   "metadata": {},
   "outputs": [],
   "source": []
  },
  {
   "cell_type": "markdown",
   "id": "fc670957-e6df-48d9-b91d-8176b075a312",
   "metadata": {},
   "source": [
    "**Q4. Explain REST and SOAP Architecture. Mention shortcomings of SOAP.**"
   ]
  },
  {
   "cell_type": "markdown",
   "id": "059751b3-7b25-465f-a44d-7a8bee3acbd5",
   "metadata": {},
   "source": [
    "**REST Architecture**:\n",
    "\n",
    "REST is an architectural style that emphasizes a stateless, client-server communication model. It is based on a set of principles and constraints that enable scalability, simplicity, and interoperability.\n",
    "\n",
    "**SOAP Architecture**:\n",
    "\n",
    "SOAP is a protocol-based architectural style that stands for Simple Object Access Protocol. It is a messaging protocol that enables communication between applications over a network. \n",
    "\n",
    "**Shortcomings of SOAP**:\n",
    "\n",
    "1. SOAP can be complex to implement and use compared to REST due to its XML-based messaging structure and the need for specialized tools and libraries. \n",
    "\n",
    "2. SOAP can lead to tightly coupled systems as it often requires a predefined contract (WSDL - Web Services Description Language) to be shared between the service provider and consumer. \n",
    "\n",
    "3. SOAP-based web services may face compatibility issues when communicating with systems or platforms that do not support SOAP or have limited support for it."
   ]
  },
  {
   "cell_type": "code",
   "execution_count": null,
   "id": "df2e19cb-f9d4-4782-82e6-a80a7e49eea9",
   "metadata": {},
   "outputs": [],
   "source": []
  },
  {
   "cell_type": "markdown",
   "id": "1a543836-b976-4a38-8397-61e886bf3d9e",
   "metadata": {},
   "source": [
    "**Q5. Differentiate between REST and SOAP.**"
   ]
  },
  {
   "cell_type": "markdown",
   "id": "5b32db3c-e142-4733-9403-d69148c361b1",
   "metadata": {},
   "source": [
    "**Differentiate between REST and SOAP**:\n",
    "\n",
    "1.  **REST** is based on a stateless, client-server communication model. It utilizes standard HTTP methods (GET, POST, PUT, DELETE, etc.) to perform operations on resources. **SOAP**, on the other hand, is a protocol-based messaging protocol. It uses XML-based messages to facilitate communication between applications.\n",
    "\n",
    "2. RESTful services commonly use lightweight data interchange formats such as JSON (JavaScript Object Notation) or XML for data exchange. SOAP messages are strictly XML-based. \n",
    "\n",
    "3. REST is based on widely accepted and standardized web protocols such as HTTP. SOAP introduces its own set of standards and specifications, including the use of WSDL (Web Services Description Language) for defining service contracts."
   ]
  }
 ],
 "metadata": {
  "kernelspec": {
   "display_name": "Python 3 (ipykernel)",
   "language": "python",
   "name": "python3"
  },
  "language_info": {
   "codemirror_mode": {
    "name": "ipython",
    "version": 3
   },
   "file_extension": ".py",
   "mimetype": "text/x-python",
   "name": "python",
   "nbconvert_exporter": "python",
   "pygments_lexer": "ipython3",
   "version": "3.10.8"
  }
 },
 "nbformat": 4,
 "nbformat_minor": 5
}
